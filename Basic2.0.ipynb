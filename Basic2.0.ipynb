{
 "cells": [
  {
   "cell_type": "code",
   "execution_count": 103,
   "id": "5f7e2818-789e-457a-8a31-62b1fba24bd7",
   "metadata": {},
   "outputs": [
    {
     "name": "stderr",
     "output_type": "stream",
     "text": [
      "DEBUG:root:ADD :10 + 3 = 13\n",
      "DEBUG:root:SUBTRACT :10 - 3 = 7\n",
      "DEBUG:root:MULTIPLY :10 * 3 = 30\n",
      "DEBUG:root:DIVISION :10 / 3 = 3.3333333333333335\n",
      "DEBUG:root:FLOOR DIVISION :10 // 3 = 3\n",
      "DEBUG:root:MODULUS :10 % 3 = 1\n",
      "DEBUG:root:EXPONENTIATION :10 ** 3 = 1000\n"
     ]
    }
   ],
   "source": [
    "##1.Logging\n",
    "\n",
    "# DEBUG : Detailed information , typically of interest only when diagnosing problem\n",
    "# INFO : Confirmation that things are working as expected\n",
    "# WARNING : An indication that something unexpected happened , or indicative of some problem in the near future(e.g.'diskspace slow). The software is still working as expected\n",
    "# ERROR : Due to a more serious problem, the software has not been able to perform some function.\n",
    "# CRITICAL : A serious error, indicating that the program itself may be unable to contiue running.\n",
    "\n",
    "import logging\n",
    "logging.basicConfig(filename= 'test.log',level= logging.DEBUG,\n",
    "                    format = '%(asctime)s:%(levelname)s:%(message)s')\n",
    "\n",
    "def add(x,y):\n",
    "    return x + y\n",
    "    \n",
    "def sub(x,y):\n",
    "    return x - y\n",
    "\n",
    "def multiply(x,y):\n",
    " return x * y\n",
    "\n",
    "\n",
    "def divide(x,y):\n",
    "    return x / y\n",
    "\n",
    "def floordivision(x,y):\n",
    " return x // y\n",
    "\n",
    "def modulus(x,y):\n",
    "    return x % y\n",
    "\n",
    "def exponentiation(x,y):\n",
    "    return x ** y\n",
    "    \n",
    "num_1=10\n",
    "num_2=3\n",
    "\n",
    "\n",
    "add_result= add(num_1,num_2)\n",
    "logging.debug('ADD :{} + {} = {}'.format(num_1,num_2,add_result))\n",
    "\n",
    "sub_result= sub(num_1,num_2)\n",
    "logging.debug('SUBTRACT :{} - {} = {}'.format(num_1,num_2,sub_result))\n",
    "\n",
    "mul_result= multiply(num_1,num_2)\n",
    "logging.debug('MULTIPLY :{} * {} = {}'.format(num_1,num_2,mul_result))\n",
    "\n",
    "div_result= divide(num_1,num_2)\n",
    "logging.debug('DIVISION :{} / {} = {}'.format(num_1,num_2,div_result))\n",
    "\n",
    "floordiv_result= floordivision(num_1,num_2)\n",
    "logging.debug('FLOOR DIVISION :{} // {} = {}'.format(num_1,num_2,floordiv_result))\n",
    "\n",
    "mod_result= modulus(num_1,num_2)\n",
    "logging.debug('MODULUS :{} % {} = {}'.format(num_1,num_2,mod_result))\n",
    "\n",
    "expo_result= exponentiation(num_1,num_2)\n",
    "logging.debug('EXPONENTIATION :{} ** {} = {}'.format(num_1,num_2,expo_result))"
   ]
  },
  {
   "cell_type": "code",
   "execution_count": 128,
   "id": "93f0af03-8ce6-414a-ab05-9fba853da27f",
   "metadata": {},
   "outputs": [
    {
     "name": "stderr",
     "output_type": "stream",
     "text": [
      "INFO:root:Created Employee: Sagar Gautam - Sagar.Gautam@email.com\n",
      "INFO:root:Created Employee: Ramesh Khatri - Ramesh.Khatri@email.com\n",
      "INFO:root:Created Employee: Saurav Dhakal - Saurav.Dhakal@email.com\n"
     ]
    }
   ],
   "source": [
    "##1.1 Adding module to login\n",
    "import logging\n",
    "logging.basicConfig(filename='employee.log',level=logging.INFO,\n",
    "                     format='%(levelname)s:%(message)s')\n",
    "class Employee:\n",
    "    '''A sample Employee class'''\n",
    "    def __init__(self,first,last):\n",
    "        self.first = first\n",
    "        self.last = last\n",
    "\n",
    "        logging.info('Created Employee: {} - {}'.format(self.fullname, self.email))\n",
    "        \n",
    "    @property\n",
    "    def email(self):\n",
    "        return'{}.{}@email.com'.format(self.first,self.last)\n",
    "\n",
    "    @property\n",
    "    def fullname(self):\n",
    "        return'{} {}'.format(self.first,self.last)\n",
    "empl_1 = Employee('Sagar','Gautam')\n",
    "empl_2 = Employee('Ramesh','Khatri')\n",
    "\n",
    "\n",
    "    "
   ]
  },
  {
   "cell_type": "code",
   "execution_count": null,
   "id": "1f0daa78-d570-4d5b-be5f-0760c0ec6f67",
   "metadata": {},
   "outputs": [],
   "source": [
    "\n"
   ]
  },
  {
   "cell_type": "code",
   "execution_count": null,
   "id": "22a773d7-9705-41a4-9fff-5f13570c107e",
   "metadata": {},
   "outputs": [],
   "source": []
  },
  {
   "cell_type": "code",
   "execution_count": null,
   "id": "7ad879aa-1412-407d-b658-c89ec48622c0",
   "metadata": {},
   "outputs": [],
   "source": []
  },
  {
   "cell_type": "code",
   "execution_count": null,
   "id": "7f8f4224-5fc1-4dee-8301-130c70876362",
   "metadata": {},
   "outputs": [],
   "source": []
  }
 ],
 "metadata": {
  "kernelspec": {
   "display_name": "Python 3 (ipykernel)",
   "language": "python",
   "name": "python3"
  },
  "language_info": {
   "codemirror_mode": {
    "name": "ipython",
    "version": 3
   },
   "file_extension": ".py",
   "mimetype": "text/x-python",
   "name": "python",
   "nbconvert_exporter": "python",
   "pygments_lexer": "ipython3",
   "version": "3.12.4"
  }
 },
 "nbformat": 4,
 "nbformat_minor": 5
}
